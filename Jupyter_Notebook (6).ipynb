{
 "cells": [
  {
   "cell_type": "markdown",
   "metadata": {},
   "source": [
    "<center>\n",
    "    <img src=\"https://cf-courses-data.s3.us.cloud-object-storage.appdomain.cloud/IBMDeveloperSkillsNetwork-DS0105EN-SkillsNetwork/labs/Module2/images/SN_web_lightmode.png\" width=\"300\" alt=\"cognitiveclass.ai logo\"  />\n",
    "</center>\n"
   ]
  },
  {
   "cell_type": "markdown",
   "metadata": {},
   "source": [
    "#### Add your code below following the instructions given in the course\n"
   ]
  },
  {
   "cell_type": "markdown",
   "metadata": {},
   "source": [
    "## Tax Calculator\n",
    "Input value"
   ]
  },
  {
   "cell_type": "code",
   "execution_count": 5,
   "metadata": {},
   "outputs": [],
   "source": [
    "def calculate_tax():\n",
    "    gross_salary = int(salary_entry.get())\n",
    "    marital_status = marital_status_menu.get()\n",
    "    dependents = int(dependents_menu.get())\n",
    "    has_medical_aid = medical_aid_menu.get()\n",
    "\n",
    "    tax_brackets = [\n",
    "        {'min': 0, 'max': 226000, 'rate': 0.18},\n",
    "        {'min': 226001, 'max': 353100, 'rate': 0.26},\n",
    "        {'min': 353101, 'max': 488700, 'rate': 0.31},\n",
    "        {'min': 487001, 'max': 641400, 'rate': 0.36},\n",
    "        {'min': 641401, 'max': 817600, 'rate': 0.39},\n",
    "        {'min': 817601, 'max': 1731600, 'rate': 0.41},\n",
    "        {'min': 1731601, 'max': float('inf'), 'rate': 0.45}\n",
    "    ]\n",
    "\n",
    "    tax = 0\n",
    "    for bracket in tax_brackets:\n",
    "        if gross_salary > bracket['min'] and gross_salary <= bracket['max']:\n",
    "            tax += (gross_salary - bracket['min']) * bracket['rate']\n",
    "            break\n",
    "\n",
    "    # Calculate medical tax credit\n",
    "    if has_medical_aid == \"yes\":\n",
    "        if dependents == 0:\n",
    "            tax -= 332\n",
    "        elif dependents in [1, 2]:\n",
    "            tax -= 664\n",
    "        else:\n",
    "            tax -= 664 + (dependents - 2) * 224\n",
    "\n",
    "    # Calculate tax deduction on gross salary\n",
    "    tax_deduction = gross_salary * 0.2\n",
    "    if tax_deduction > 75000:\n",
    "        tax_deduction = 75000\n",
    "    net_salary = gross_salary - tax - tax_deduction"
   ]
  },
  {
   "cell_type": "code",
   "execution_count": null,
   "metadata": {},
   "outputs": [],
   "source": []
  }
 ],
 "metadata": {
  "kernelspec": {
   "display_name": "Python",
   "language": "python",
   "name": "conda-env-python-py"
  },
  "language_info": {
   "codemirror_mode": {
    "name": "ipython",
    "version": 3
   },
   "file_extension": ".py",
   "mimetype": "text/x-python",
   "name": "python",
   "nbconvert_exporter": "python",
   "pygments_lexer": "ipython3",
   "version": "3.7.12"
  }
 },
 "nbformat": 4,
 "nbformat_minor": 4
}
